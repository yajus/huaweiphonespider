{
 "cells": [
  {
   "cell_type": "code",
   "execution_count": 72,
   "metadata": {},
   "outputs": [],
   "source": [
    "from bs4 import BeautifulSoup as BS\n",
    "import requests\n",
    "import numpy as np\n",
    "url=\"https://www.vmall.com/list-36\"\n",
    "baseurl=\"https://www.vmall.com\""
   ]
  },
  {
   "cell_type": "code",
   "execution_count": 22,
   "metadata": {},
   "outputs": [],
   "source": [
    "html = requests.get(url).text\n",
    "soup = BS(html, 'lxml')\n",
    "img_ul = soup.find_all('div', {\"class\": \"pro-panels\"})"
   ]
  },
  {
   "cell_type": "markdown",
   "metadata": {},
   "source": [
    "img_ul找到了所有的p_img"
   ]
  },
  {
   "cell_type": "code",
   "execution_count": 19,
   "metadata": {},
   "outputs": [
    {
     "name": "stdout",
     "output_type": "stream",
     "text": [
      "<p class=\"p-img\"><a href=\"/product/10086789934944.html\" onclick=\"pushListProClickMsg('2601010083802')\" target=\"_blank\" title=\"荣耀10青春版\"><img alt=\"荣耀10青春版 全网通 4GB+64GB（渐变蓝）\" src=\"https://res.vmallres.com/pimages//product/6901443273959/428_428_1542706656249mp.png\"/></a></p>\n"
     ]
    }
   ],
   "source": [
    "# test1=img_ul[0].find('p',{\"class\":\"p-img\"})\n",
    "# print(test1)"
   ]
  },
  {
   "cell_type": "code",
   "execution_count": 20,
   "metadata": {},
   "outputs": [
    {
     "name": "stdout",
     "output_type": "stream",
     "text": [
      "<a href=\"/product/10086789934944.html\" onclick=\"pushListProClickMsg('2601010083802')\" target=\"_blank\" title=\"荣耀10青春版\"><img alt=\"荣耀10青春版 全网通 4GB+64GB（渐变蓝）\" src=\"https://res.vmallres.com/pimages//product/6901443273959/428_428_1542706656249mp.png\"/></a>\n"
     ]
    }
   ],
   "source": [
    "# test2=test1.find('a',{\"target\":\"_blank\"})\n",
    "# print(test2)"
   ]
  },
  {
   "cell_type": "code",
   "execution_count": 23,
   "metadata": {},
   "outputs": [
    {
     "name": "stdout",
     "output_type": "stream",
     "text": [
      "/product/10086789934944.html\n"
     ]
    }
   ],
   "source": [
    "# print(test2['href'])"
   ]
  },
  {
   "cell_type": "code",
   "execution_count": 36,
   "metadata": {},
   "outputs": [],
   "source": [
    "# html1=requests.get(baseurl+test2['href']).text"
   ]
  },
  {
   "cell_type": "code",
   "execution_count": 37,
   "metadata": {},
   "outputs": [],
   "source": [
    "# soup2=BS(html1,'lxml')"
   ]
  },
  {
   "cell_type": "code",
   "execution_count": 76,
   "metadata": {},
   "outputs": [],
   "source": [
    "name=['传播名','CPU型号','CPU核数','屏幕尺寸','屏幕色彩','分辨率','前置摄像头','后置摄像头']"
   ]
  },
  {
   "cell_type": "code",
   "execution_count": 64,
   "metadata": {},
   "outputs": [],
   "source": [
    "# test3=soup2.find('div',{\"class\":\"product-parameter-main clearfix hide\"})"
   ]
  },
  {
   "cell_type": "code",
   "execution_count": 65,
   "metadata": {},
   "outputs": [
    {
     "name": "stdout",
     "output_type": "stream",
     "text": [
      "<div class=\"product-parameter-main clearfix hide\">\n",
      "<h2>主要参数</h2>\n",
      "<ul>\n",
      "<li><label>传播名</label><span>荣耀10青春版</span></li>\n",
      "<li><label>后置摄像头</label><span>1300万像素（主摄像头，f/1.8光圈）+200万像素，主摄像头支持自动对焦。备注：不同拍照模式的照片像素可能有差异，请以实际为准。</span></li>\n",
      "<li><label>电池容量</label><span>3400mAh（典型值）</span></li>\n",
      "<li><label>前置摄像头</label><span>2400万像素，f/2.0光圈，支持固定焦距。备注：不同拍照模式的照片像素可能有差异，请以实际为准。</span></li>\n",
      "<li><label>屏幕尺寸</label><span>6.21英寸</span></li>\n",
      "<li><label>屏幕色彩</label><span>1670万色</span></li>\n",
      "<li><label>运行内存（RAM）</label><span>4GB（备注：可使用的内存容量小于此值，因为手机软件占用部分空间）</span></li>\n",
      "<li><label>机身内存（ROM）</label><span>64GB（备注：可使用的内存容量小于此值，因为手机软件占用部分空间）</span></li>\n",
      "<li><label>最大支持扩展</label><span>512GB（非标配）</span></li>\n",
      "<li><label>分辨率</label><span>FHD+ 1080x2340 像素</span></li>\n",
      "<li><label>CPU型号</label><span>Hisilicon Kirin 710*（*因使用多种封装工艺，Hisilicon Kirin 710处理器系列包含Kirin 710和Kirin 710F，功能参数一致）</span></li>\n",
      "<li><label>CPU核数</label><span>八核</span></li>\n",
      "<li><label>双卡</label><span>双卡双待单通</span></li>\n",
      "</ul>\n",
      "</div>\n"
     ]
    }
   ],
   "source": [
    "# print(test3)"
   ]
  },
  {
   "cell_type": "code",
   "execution_count": 66,
   "metadata": {},
   "outputs": [],
   "source": [
    "test4=test3.find_all('li')"
   ]
  },
  {
   "cell_type": "code",
   "execution_count": 67,
   "metadata": {},
   "outputs": [
    {
     "name": "stdout",
     "output_type": "stream",
     "text": [
      "[<li><label>传播名</label><span>荣耀10青春版</span></li>, <li><label>后置摄像头</label><span>1300万像素（主摄像头，f/1.8光圈）+200万像素，主摄像头支持自动对焦。备注：不同拍照模式的照片像素可能有差异，请以实际为准。</span></li>, <li><label>电池容量</label><span>3400mAh（典型值）</span></li>, <li><label>前置摄像头</label><span>2400万像素，f/2.0光圈，支持固定焦距。备注：不同拍照模式的照片像素可能有差异，请以实际为准。</span></li>, <li><label>屏幕尺寸</label><span>6.21英寸</span></li>, <li><label>屏幕色彩</label><span>1670万色</span></li>, <li><label>运行内存（RAM）</label><span>4GB（备注：可使用的内存容量小于此值，因为手机软件占用部分空间）</span></li>, <li><label>机身内存（ROM）</label><span>64GB（备注：可使用的内存容量小于此值，因为手机软件占用部分空间）</span></li>, <li><label>最大支持扩展</label><span>512GB（非标配）</span></li>, <li><label>分辨率</label><span>FHD+ 1080x2340 像素</span></li>, <li><label>CPU型号</label><span>Hisilicon Kirin 710*（*因使用多种封装工艺，Hisilicon Kirin 710处理器系列包含Kirin 710和Kirin 710F，功能参数一致）</span></li>, <li><label>CPU核数</label><span>八核</span></li>, <li><label>双卡</label><span>双卡双待单通</span></li>]\n",
      "True\n"
     ]
    }
   ],
   "source": [
    "print(test4)\n",
    "print(test4[0].find('label').get_text() in name)"
   ]
  },
  {
   "cell_type": "code",
   "execution_count": 68,
   "metadata": {},
   "outputs": [],
   "source": [
    "# deliver=[]\n",
    "# for nameclass in test4:\n",
    "#     if(nameclass.find('label').get_text() in name):\n",
    "#         deliver.append(nameclass.find('span').get_text())"
   ]
  },
  {
   "cell_type": "code",
   "execution_count": 69,
   "metadata": {},
   "outputs": [
    {
     "name": "stdout",
     "output_type": "stream",
     "text": [
      "['荣耀10青春版', '1300万像素（主摄像头，f/1.8光圈）+200万像素，主摄像头支持自动对焦。备注：不同拍照模式的照片像素可能有差异，请以实际为准。', '2400万像素，f/2.0光圈，支持固定焦距。备注：不同拍照模式的照片像素可能有差异，请以实际为准。', '6.21英寸', '1670万色', 'FHD+ 1080x2340 像素', 'Hisilicon Kirin 710*（*因使用多种封装工艺，Hisilicon Kirin 710处理器系列包含Kirin 710和Kirin 710F，功能参数一致）', '八核']\n"
     ]
    }
   ],
   "source": [
    "# print(deliver)"
   ]
  },
  {
   "cell_type": "code",
   "execution_count": null,
   "metadata": {},
   "outputs": [],
   "source": []
  },
  {
   "cell_type": "code",
   "execution_count": 101,
   "metadata": {},
   "outputs": [
    {
     "name": "stdout",
     "output_type": "stream",
     "text": [
      "https://res.vmallres.com/pimages//product/6901443273959/428_428_1542706656249mp.png\n",
      "Saved 荣耀10青春版.png\n",
      "https://res.vmallres.com/pimages//product/6901443269723/428_428_1540895297253mp.png\n",
      "Saved 荣耀Magic2.png\n",
      "https://res.vmallres.com/pimages//product/6901443264780/428_428_1539244238246mp.png\n",
      "Saved HUAWEI Mate 20 RS 保时捷设计.png\n",
      "https://res.vmallres.com/pimages//product/6901443260218/428_428_1539242726882mp.png\n",
      "Saved HUAWEI Mate 20 Pro.png\n",
      "https://res.vmallres.com/pimages//product/6901443260232/428_428_1539230426520mp.png\n",
      "Saved HUAWEI Mate 20.png\n",
      "https://res.vmallres.com/pimages//product/6901443262182/428_428_1542769704670mp.png\n",
      "Saved HUAWEI Mate 20 X.png\n",
      "https://res.vmallres.com/pimages//product/6901443259571/428_428_1538278169451mp.png\n",
      "Saved 荣耀畅玩8C.png\n",
      "https://res.vmallres.com/pimages//product/6901443265091/428_428_1538290581206mp.jpg\n",
      "Saved 华为畅享 MAX.png\n",
      "https://res.vmallres.com/pimages//product/6901443263783/428_428_1542853206848mp.png\n",
      "Saved 华为畅享9 Plus.png\n",
      "https://res.vmallres.com/pimages//product/6901443258000/428_428_1540630399670mp.png\n",
      "Saved HUAWEI 麦芒7.png\n",
      "https://res.vmallres.com/pimages//product/6901443261482/428_428_1536627883158mp.jpg\n",
      "Saved 荣耀8X.png\n",
      "https://res.vmallres.com/pimages//product/6901443256013/428_428_1538985711338mp.png\n",
      "Saved 荣耀8X Max.png\n",
      "https://res.vmallres.com/pimages//product/6901443253975/428_428_1542765208952mp.png\n",
      "Saved 荣耀 Note10.png\n",
      "https://res.vmallres.com/pimages//product/6901443253623/428_428_1532340246804mp.png\n",
      "Saved HUAWEI nova 3i.png\n",
      "https://res.vmallres.com/pimages//product/6901443229901/428_428_1532681236236mp.jpg\n",
      "Saved 荣耀畅玩7 移动4G+.png\n",
      "https://res.vmallres.com/pimages//product/6901443250363/428_428_1542768583524mp.png\n",
      "Saved HUAWEI nova 3.png\n",
      "https://res.vmallres.com/pimages//product/2601010042602/428_428_1541564133685mp.png\n",
      "Saved 荣耀9i.png\n",
      "https://res.vmallres.com/pimages//product/6901443242597/428_428_1538990285199mp.png\n",
      "Saved 荣耀Play.png\n",
      "https://res.vmallres.com/pimages//product/6901443229918/428_428_1540629967045mp.png\n",
      "Saved 华为畅享 8e 青春.png\n",
      "https://res.vmallres.com/pimages//product/6901443229857/428_428_1539912870678mp.png\n",
      "Saved 荣耀畅玩7.png\n"
     ]
    }
   ],
   "source": [
    "all=[]\n",
    "for i in range(len(img_ul)):\n",
    "    test1=img_ul[i].find('p',{\"class\":\"p-img\"})\n",
    "    test2=test1.find('a',{\"target\":\"_blank\"})\n",
    "    imgdown1=test2.find('img')\n",
    "    imgdown2=imgdown1['src']\n",
    "    print(imgdown2)\n",
    "    r = requests.get(imgdown2, stream=True)\n",
    "    image_name = test2['title']\n",
    "    with open('./huaweiimg/%s' % image_name+'.png', 'wb') as f:\n",
    "        for chunk in r.iter_content(chunk_size=128):\n",
    "            f.write(chunk)\n",
    "    print('Saved %s' % image_name+'.png')\n",
    "    html1=requests.get(baseurl+test2['href']).text\n",
    "    soup2=BS(html1,'lxml')\n",
    "    test3=soup2.find('div',{\"class\":\"product-parameter-main clearfix hide\"})\n",
    "    test4=test3.find_all('li')\n",
    "    deliver=['null','null','null','null','null','null','null','null']\n",
    "    for nameclass in test4:\n",
    "        theclass = nameclass.find('label').get_text()\n",
    "        if(theclass in name):\n",
    "#             print(name.index(theclass))\n",
    "            deliver[name.index(theclass)]=nameclass.find('span').get_text()\n",
    "    all.append(deliver)\n"
   ]
  },
  {
   "cell_type": "code",
   "execution_count": 102,
   "metadata": {},
   "outputs": [
    {
     "name": "stdout",
     "output_type": "stream",
     "text": [
      "['荣耀10青春版', 'Hisilicon Kirin 710*（*因使用多种封装工艺，Hisilicon Kirin 710处理器系列包含Kirin 710和Kirin 710F，功能参数一致）', '八核', '6.21英寸', '1670万色', 'FHD+ 1080x2340 像素', '2400万像素，f/2.0光圈，支持固定焦距。备注：不同拍照模式的照片像素可能有差异，请以实际为准。', '1300万像素（主摄像头，f/1.8光圈）+200万像素，主摄像头支持自动对焦。备注：不同拍照模式的照片像素可能有差异，请以实际为准。']\n",
      "['荣耀Magic2', 'HUAWEI Kirin 980（麒麟980）', '八核', '6.39英寸（备注：显示屏采用圆角设计，按照标准矩形测量时，屏幕的对角线长度是 6.39 英寸 （实际可视区域略小））', '1670万色，色域（DCI-P3）：108%（典型值）', 'FHD+ 2340 x 1080 像素', '1600万像素（f/2.0光圈）+ 200万像素（f/2.4光圈）+ 200万像素（f/2.4光圈），支持固定焦距。 备注：1600万像素+200万像素+200万像素三镜头，不同场景启用不同镜头，不同拍照模式的照片像素有差异，请以实际为准。', '1600万像素（彩色，f/1.8光圈）+2400万像素（黑白，f/1.8光圈）+1600万像素（超广角，f/2.2光圈，支持固定焦距），支持AIS防抖。备注：不同拍照模式的照片像素可能有差异，请以实际为准。']\n",
      "['HUAWEI Mate 20 RS 保时捷设计', 'HUAWEI Kirin 980 （麒麟980）', '八核', '6.39 英寸', '1670万色，DCI-P3', '2k+ 3120 x 1440 像素', '前置单摄： 支持3D 深度感知相机 2400万像素，f/2.0光圈，支持固定焦距。 备注： *不同拍照模式的照片像素可能有差异，请以实际为准。 *前置摄像头采用2480万像素CMOS传感器（理论值），有效像素2400万（理论值）。', '后置徕卡三摄： 4000万像素（广角，f/1.8光圈）+2000万像素（超广角，f/2.2光圈）+800万像素（长焦，f/2.4光圈），支持自动对焦（激光对焦/相位对焦/反差对焦），支持AIS防抖。 备注：不同拍照模式的照片像素可能有差异，请以实际为准。']\n",
      "['HUAWEI Mate 20 Pro (UD)', 'HUAWEI Kirin 980 （麒麟980）', '八核', '6.39英寸（备注：显示屏采用圆角设计，按照标准矩形测量时，屏幕的对角线长度是 6.39 英寸 (实际可视区域略小)）', '1670万色，DCI-P3', '2k+ 3120 x 1440 像素', '前置单摄： 支持3D 深度感知相机 2400万像素，f/2.0光圈，支持固定焦距。 备注： *不同拍照模式的照片像素可能有差异，请以实际为准。 *前置摄像头采用2480万像素CMOS传感器（理论值），有效像素2400万（理论值）。', '后置徕卡三摄： 4000万像素（广角，f/1.8光圈）+2000万像素（超广角，f/2.2光圈）+800万像素（长焦，f/2.4光圈），支持自动对焦（激光对焦/相位对焦/反差对焦），支持AIS防抖。 备注：不同拍照模式的照片像素可能有差异，请以实际为准。']\n",
      "['HUAWEI Mate 20', 'HUAWEI Kirin 980 （麒麟980）', '八核', '6.53英寸（备注：显示屏采用圆角设计，按照标准矩形测量时，屏幕的对角线长度是 6.53 英寸 (实际可视区域略小)）', '1670万色，DCI-P3', 'FHD+ 2244x1080 像素', '前置单摄： 2400万像素，f/2.0光圈，支持固定焦距。 备注： *不同拍照模式的照片像素可能有差异，请以实际为准。 *前置摄像头采用2480万像素CMOS传感器（理论值），有效像素2400万（理论值）。', '后置徕卡三摄： 1200万像素（广角，f/1.8光圈）+1600万像素（超广角，f/2.2光圈）+800万像素（长焦，f/2.4光圈），支持自动对焦（激光对焦/相位对焦/反差对焦），支持AIS防抖。 备注：不同拍照模式的照片像素可能有差异，请以实际为准。']\n",
      "['HUAWEI Mate 20 X', 'HUAWEI Kirin 980 （麒麟980）', '八核', '7.2英寸（备注：显示屏采用圆角设计，按照标准矩形测量时，屏幕的对角线长度是 7.2 英寸 (实际可视区域略小)）', '1670万色，DCI-P3', 'FHD+ 2244x1080 像素', '前置单摄： 2400万像素，f/2.0光圈，支持固定焦距。 备注： *不同拍照模式的照片像素可能有差异，请以实际为准。 *前置摄像头采用2480万像素CMOS传感器（理论值），有效像素2400万（理论值）。', '后置徕卡三摄： 4000万像素（广角，f/1.8光圈）+2000万像素（超广角，f/2.2光圈）+800万像素（长焦，f/2.4光圈），支持自动对焦（激光对焦/相位对焦/反差对焦），支持AIS防抖。 备注：不同拍照模式的照片像素可能有差异，请以实际为准。']\n",
      "['荣耀畅玩8C', '高通骁龙632', '八核', '6.26英寸', '1670万色，色彩饱和度（NTSC）：70%（典型值）', 'HD+ 1520x720 像素', '前置单摄： 800万像素，f/2.0光圈，支持固定焦距 备注：不同拍照模式的照片像素可能有差异，请以实际为准。', '后置双摄： 1300万像素（彩色，f/1.8光圈）+200万像素（黑白，f/2.4光圈），支持自动对焦 备注：不同拍照模式的照片像素可能有差异，请以实际为准。']\n",
      "['华为畅享 MAX', 'Qualcomm Snapdragon 660（高通 骁龙660）', '八核', '7.12英寸', '1670万色', 'FHD+ 1080x2244 像素', '800万像素，f/2.0光圈，支持固定焦距 （备注：不同拍照模式的照片像素可能有差异，请以实际为准。）', '1600万像素（f/2.0光圈）+200万像素（f/2.4 光圈），支持自动对焦（相位对焦/对比度对焦） （备注：不同拍照模式的照片像素可能有差异，请以实际为准。）']\n",
      "['华为畅享9 Plus', 'Hisilicon Kirin 710*（*因使用多种封装工艺，Hisilicon Kirin 710处理器系列包含Kirin 710和Kirin 710F，功能参数一致）', '8核', '6.5英寸（备注：显示屏采用圆角设计，按照标准矩形测量时，屏幕的对角线长度是6.5英寸（实际可视区域略小））', '1670万色', 'FHD+ 1080x2340 像素', 'null', 'null']\n",
      "['null', 'HUAWEI Kirin 710 (麒麟710)', '八核', '6.3英寸', '1670万色，色彩饱和度（NTSC）：85%（典型值）', 'FHD+  1080 x 2340 像素', '2400万像素（彩色）像素＋200万（彩色）像素，F/2.0光圈，支持固定焦距 备注：不同拍照模式的照片像素可能有差异，请以实际为准。', '2000万（彩色）像素＋200万（彩色）像素，F/1.8光圈，支持自动对焦（相位对焦/反差对焦） 备注：不同拍照模式的照片像素可能有差异，请以实际为准。']\n",
      "['荣耀8X', 'Hisilicon Kirin 710* （*因使用多种封装工艺，Hisilicon Kirin 710处理器系列包含Kirin 710和Kirin 710F，功能参数一致）', '八核', '6.5英寸', '1670万色', 'FHD+ 1080x2340 像素', '1600万像素，f/2.0光圈，支持固定焦距。备注：不同拍照模式的照片像素可能有差异，请以实际为准', '2000万＋200万像素，f/1.8光圈，支持自动对焦（相位对焦/反差对焦）。备注：不同拍照模式的照片像素可能有差异，请以实际为准']\n",
      "['荣耀8X Max', 'Qualcomm Snapdragon 636（高通 骁龙636）', '八核', '7.12英寸', '1670万色，色彩饱和度（NTSC）：72%（典型值）', 'FHD+ 1080x2244 像素', '800万像素，f/2.0光圈，支持固定焦距。 备注：不同拍照模式的照片像素可能有差异，请以实际为准', '1600万像素（f/2.0光圈）+200万像素（f/2.4 光圈），支持自动对焦（相位对焦/对比度对焦） 备注：不同拍照模式的照片像素可能有差异，请以实际为准']\n",
      "['荣耀 Note10', 'Kirin 970（麒麟970）', '八核+微智核i7', '6.95英寸', '1670万色，色彩饱和度（NTSC）：115%（Typ. CIE1976）', 'FHD+ 1080x2220 像素', '1300万像素，F/2.0光圈，支持固定焦距。备注：不同拍照模式的照片像素可能有差异，请以实际为准。', '2400万像素+1600万像素，F/1.8光圈，支持自动对焦（深度对焦/相位对焦/反差对焦）。备注：不同拍照模式的照片像素可能有差异，请以实际为准。']\n",
      "['HUAWEI nova 3i', 'HUAWEI Kirin 710（麒麟710）', '八核', '6.3英寸（备注：显示屏采用圆角设计，按照标准矩形测量时，屏幕的对角线长度是6.3英寸（实际可视区域略小））', '1670万，色彩饱和度（NTSC）：85%（典型值）', '2340*1080像素', 'null', 'null']\n",
      "['荣耀畅玩7', 'MT6739', '4核', '5.45英寸', '1600万色', '1440*720', 'null', 'null']\n",
      "['HUAWEI nova 3', 'HUAWEI Kirin 970 (麒麟970)', '八核 + 微智核i7', '6.3英寸', '1670万色，色彩饱和度（NTSC）：85%（典型值）', '2340 x 1080像素', 'null', 'null']\n",
      "['荣耀9i', 'Hisilicon Kirin 659', '八核', '5.84英寸', '1670万色', '2280*1080', 'null', 'null']\n",
      "['荣耀Play', 'HUAWEI Kirin 970 （麒麟970）', '八核 + 微智核i7', '6.3英寸', '1600万色，色彩饱和度（NTSC）：85%（典型值）', '2340 x 1080 像素', '1600万像素（彩色，f/2.0光圈），支持固定焦距。备注：不同拍照模式的照片像素可能有差异，请以实际为准。', '1600万像素（彩色，f/2.2光圈）＋200万像素（彩色，f/2.4光圈），支持自动对焦（相位对焦/反差对焦）。备注：不同拍照模式的照片像素可能有差异，请以实际为准。']\n",
      "['华为畅享 8e 青春', 'MT6739', '4核', '5.45英寸', '1670万色', '1440*720', 'null', 'null']\n",
      "['荣耀畅玩7', 'MT6739', '4核', '5.45英寸', '1600万色', '1440*720', 'null', 'null']\n"
     ]
    }
   ],
   "source": [
    "for learn in all:\n",
    "    print(learn)"
   ]
  },
  {
   "cell_type": "code",
   "execution_count": 137,
   "metadata": {},
   "outputs": [],
   "source": [
    "import csv\n",
    "import codecs\n",
    "# import sys\n",
    "# from imp import reload\n",
    "# import sys\n",
    "# reload(sys)\n",
    "# sys.setdefaultencoding('utf8')\n",
    "\n",
    "f = codecs.open(\"phonedata.csv\", 'wb', \"gbk\")\n",
    "writer = csv.writer(f)\n",
    "writer.writerow(name)\n",
    "\n",
    "# 多組數據存放list列表裏面\n",
    "\n",
    "\n",
    "writer.writerows(all)\n",
    "f.close()"
   ]
  },
  {
   "cell_type": "code",
   "execution_count": null,
   "metadata": {},
   "outputs": [],
   "source": []
  }
 ],
 "metadata": {
  "kernelspec": {
   "display_name": "Python 3",
   "language": "python",
   "name": "python3"
  },
  "language_info": {
   "codemirror_mode": {
    "name": "ipython",
    "version": 3
   },
   "file_extension": ".py",
   "mimetype": "text/x-python",
   "name": "python",
   "nbconvert_exporter": "python",
   "pygments_lexer": "ipython3",
   "version": "3.6.5"
  }
 },
 "nbformat": 4,
 "nbformat_minor": 2
}
